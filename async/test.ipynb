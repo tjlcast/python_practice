{
 "cells": [
  {
   "cell_type": "code",
   "execution_count": null,
   "metadata": {},
   "outputs": [],
   "source": [
    "import asyncio\n",
    "import time\n",
    "\n",
    "# 定义一个异步生成器\n",
    "async def async_generator():\n",
    "    for i in range(10):\n",
    "        await asyncio.sleep(1) # 等待1秒，模拟 I/O 操作\n",
    "        yield 1\n",
    "\n",
    "# 异步 for 循环示例\n",
    "async def async_for_loop():\n",
    "    print(\"开始异步for循环...\")\n",
    "    start_time = time.time()\n",
    "\n",
    "    async for number in async_generator():\n",
    "        print(f\"当前数为: {number}\")\n",
    "\n",
    "    end_time = time.time()\n",
    "    print(f\"当前异步for循环, 耗时: {end_time - start_time} 秒\")\n",
    "\n",
    "task = asyncio.create_task(async_for_loop())\n",
    "print(\"Wait task\")\n",
    "await task \n",
    "print(\"End task\")"
   ]
  },
  {
   "cell_type": "code",
   "execution_count": null,
   "metadata": {},
   "outputs": [],
   "source": [
    "import time\n",
    "\n",
    "# 普通 for 循环示例\n",
    "def normal_for_loop():\n",
    "    print(\"开始普通 for 循环...\")\n",
    "    start_time = time.time()\n",
    "\n",
    "    # 创建一个包含10个数字的列表 \n",
    "    numbers = list(range(10))\n",
    "\n",
    "    for number in numbers:\n",
    "        time.sleep(1) # 等待1秒，模拟 I/O 操作\n",
    "        print(f\"当前数为 {number}\")\n",
    "        \n",
    "    end_time = time.time()\n",
    "    print(f\"完成普通 for 循环, 耗时 {end_time - start_time} 秒\")\n",
    "\n",
    "normal_for_loop()"
   ]
  },
  {
   "cell_type": "code",
   "execution_count": null,
   "metadata": {},
   "outputs": [],
   "source": [
    "# 普通迭代器示例\n",
    "class MyIterator:\n",
    "    def __init__(self):\n",
    "        self.n = 0\n",
    "    \n",
    "    def __iter__(self):\n",
    "        return self\n",
    "    \n",
    "    def __next__(self):\n",
    "        x = self.n\n",
    "        self.n += 1\n",
    "        if self.n > 10:\n",
    "            raise StopIteration\n",
    "        return x\n",
    "    \n",
    "iterator = MyIterator()\n",
    "for i in iterator:\n",
    "    print(i)"
   ]
  },
  {
   "cell_type": "code",
   "execution_count": null,
   "metadata": {},
   "outputs": [],
   "source": [
    "# 异步迭代器示例\n",
    "class MyAsyncIterator:\n",
    "    def __init__(self):\n",
    "        self.n = 0\n",
    "    \n",
    "    def __aiter__(self):\n",
    "        return self\n",
    "    \n",
    "    async def __anext__(self):\n",
    "        x = self.n\n",
    "        self.n += 1\n",
    "        if self.n > 10:\n",
    "            raise StopAsyncIteration\n",
    "        await asyncio.sleep(1)\n",
    "        return x\n",
    "    \n",
    "async_iterator = MyAsyncIterator()\n",
    "async for i in async_iterator:\n",
    "    print(i)"
   ]
  },
  {
   "cell_type": "code",
   "execution_count": null,
   "metadata": {},
   "outputs": [],
   "source": [
    "async def func1(num):\n",
    "    print(\"-- func1 start --\")\n",
    "    await asyncio.sleep(num)\n",
    "    print(\"-- func1 end --\")\n",
    "    return \"func1 ok\"\n",
    "\n",
    "async def func2(num):\n",
    "    print(\"-- func2 start --\")\n",
    "    await asyncio.sleep(num)\n",
    "    print(\"-- func2 end --\")\n",
    "    return \"func2 ok\"\n",
    "\n",
    "\n",
    "async def collector():\n",
    "    task1 = asyncio.ensure_future(func1(3))\n",
    "    task2 = asyncio.ensure_future(func2(5))\n",
    "    tasks = [task1, task2]\n",
    "    res = await asyncio.gather(tasks)\n",
    "    return res\n",
    "\n",
    "asyncio.create_task(collector())\n",
    "\n",
    "# if __name__ == '__main__':\n",
    "#     loop = asyncio.get_event_loop()\n",
    "#     result = loop.run_until_complete(collector())\n",
    "#     print(result)"
   ]
  },
  {
   "cell_type": "code",
   "execution_count": null,
   "metadata": {},
   "outputs": [],
   "source": []
  },
  {
   "cell_type": "code",
   "execution_count": null,
   "metadata": {},
   "outputs": [],
   "source": []
  },
  {
   "cell_type": "code",
   "execution_count": null,
   "metadata": {},
   "outputs": [],
   "source": []
  }
 ],
 "metadata": {
  "kernelspec": {
   "display_name": "venv",
   "language": "python",
   "name": "python3"
  },
  "language_info": {
   "codemirror_mode": {
    "name": "ipython",
    "version": 3
   },
   "file_extension": ".py",
   "mimetype": "text/x-python",
   "name": "python",
   "nbconvert_exporter": "python",
   "pygments_lexer": "ipython3",
   "version": "3.8.10"
  }
 },
 "nbformat": 4,
 "nbformat_minor": 2
}
