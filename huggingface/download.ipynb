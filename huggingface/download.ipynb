{
 "cells": [
  {
   "cell_type": "code",
   "execution_count": 1,
   "metadata": {},
   "outputs": [
    {
     "name": "stdout",
     "output_type": "stream",
     "text": [
      "Collecting huggingface_hub\n",
      "  Downloading huggingface_hub-0.18.0-py3-none-any.whl.metadata (13 kB)\n",
      "Collecting filelock (from huggingface_hub)\n",
      "  Downloading filelock-3.13.1-py3-none-any.whl.metadata (2.8 kB)\n",
      "Collecting fsspec>=2023.5.0 (from huggingface_hub)\n",
      "  Downloading fsspec-2023.10.0-py3-none-any.whl.metadata (6.8 kB)\n",
      "Requirement already satisfied: requests in /Users/jialiangtang/code/python_chat_stream/venv/lib/python3.8/site-packages (from huggingface_hub) (2.31.0)\n",
      "Requirement already satisfied: tqdm>=4.42.1 in /Users/jialiangtang/code/python_chat_stream/venv/lib/python3.8/site-packages (from huggingface_hub) (4.66.1)\n",
      "Requirement already satisfied: pyyaml>=5.1 in /Users/jialiangtang/code/python_chat_stream/venv/lib/python3.8/site-packages (from huggingface_hub) (6.0.1)\n",
      "Requirement already satisfied: typing-extensions>=3.7.4.3 in /Users/jialiangtang/code/python_chat_stream/venv/lib/python3.8/site-packages (from huggingface_hub) (4.8.0)\n",
      "Requirement already satisfied: packaging>=20.9 in /Users/jialiangtang/code/python_chat_stream/venv/lib/python3.8/site-packages (from huggingface_hub) (23.2)\n",
      "Requirement already satisfied: charset-normalizer<4,>=2 in /Users/jialiangtang/code/python_chat_stream/venv/lib/python3.8/site-packages (from requests->huggingface_hub) (3.3.2)\n",
      "Requirement already satisfied: idna<4,>=2.5 in /Users/jialiangtang/code/python_chat_stream/venv/lib/python3.8/site-packages (from requests->huggingface_hub) (3.4)\n",
      "Requirement already satisfied: urllib3<3,>=1.21.1 in /Users/jialiangtang/code/python_chat_stream/venv/lib/python3.8/site-packages (from requests->huggingface_hub) (2.0.7)\n",
      "Requirement already satisfied: certifi>=2017.4.17 in /Users/jialiangtang/code/python_chat_stream/venv/lib/python3.8/site-packages (from requests->huggingface_hub) (2023.7.22)\n",
      "Downloading huggingface_hub-0.18.0-py3-none-any.whl (301 kB)\n",
      "\u001b[2K   \u001b[90m━━━━━━━━━━━━━━━━━━━━━━━━━━━━━━━━━━━━━━━\u001b[0m \u001b[32m302.0/302.0 kB\u001b[0m \u001b[31m276.0 kB/s\u001b[0m eta \u001b[36m0:00:00\u001b[0ma \u001b[36m0:00:01\u001b[0m\n",
      "\u001b[?25hDownloading fsspec-2023.10.0-py3-none-any.whl (166 kB)\n",
      "\u001b[2K   \u001b[90m━━━━━━━━━━━━━━━━━━━━━━━━━━━━━━━━━━━━━━━\u001b[0m \u001b[32m166.4/166.4 kB\u001b[0m \u001b[31m478.8 kB/s\u001b[0m eta \u001b[36m0:00:00\u001b[0ma \u001b[36m0:00:01\u001b[0m\n",
      "\u001b[?25hDownloading filelock-3.13.1-py3-none-any.whl (11 kB)\n",
      "Installing collected packages: fsspec, filelock, huggingface_hub\n",
      "Successfully installed filelock-3.13.1 fsspec-2023.10.0 huggingface_hub-0.18.0\n",
      "Note: you may need to restart the kernel to use updated packages.\n"
     ]
    }
   ],
   "source": [
    "%pip install huggingface_hub"
   ]
  },
  {
   "cell_type": "code",
   "execution_count": null,
   "metadata": {},
   "outputs": [],
   "source": [
    "import time\n",
    "from huggingface_hub import snapshot_download\n",
    "repo_id = \"LinkSoul/Chinese-Llama-2-7b\"\n",
    "local_dir = 'd:/ai/models1'\n",
    "cache_dir = local_dir + \"/cache\"\n",
    "while True:\n",
    "    try:\n",
    "        snapshot_download(cache_dir=cache_dir,\n",
    "        local_dir=local_dir,\n",
    "        repo_id=repo_id,\n",
    "        local_dir_use_symlinks=False,\n",
    "        resume_download=True,\n",
    "        allow_patterns=[\"*.model\", \"*.json\", \"*.bin\",\n",
    "        \"*.py\", \"*.md\", \"*.txt\"],\n",
    "        ignore_patterns=[\"*.safetensors\", \"*.msgpack\",\n",
    "        \"*.h5\", \"*.ot\",],\n",
    "        )\n",
    "    except Exception as e :\n",
    "        print(e)\n",
    "        # time.sleep(5)\n",
    "    else:\n",
    "        print('下载完成')\n",
    "        break"
   ]
  },
  {
   "cell_type": "code",
   "execution_count": 3,
   "metadata": {},
   "outputs": [
    {
     "name": "stderr",
     "output_type": "stream",
     "text": [
      "deepseek-coder-6.7b-instruct.Q4_K_M.gguf:   1%|          | 21.0M/4.08G [01:55<6:18:52, 179kB/s]"
     ]
    }
   ],
   "source": [
    "import time\n",
    "from huggingface_hub import hf_hub_download\n",
    "repo_id = \"TheBloke/deepseek-coder-6.7B-instruct-GGUF\" # 仓库ID\n",
    "filename= \"deepseek-coder-6.7b-instruct.Q4_K_M.gguf\"\n",
    "\n",
    "local_dir = '/Users/jialiangtang/Desktop/hzbank/model'\n",
    "cache_dir = local_dir + \"/cache\"\n",
    "while True:   \n",
    "    try:\n",
    "        hf_hub_download(cache_dir=cache_dir,\n",
    "        local_dir=local_dir,\n",
    "        repo_id=repo_id,\n",
    "        filename=filename,\n",
    "        local_dir_use_symlinks=False,\n",
    "        resume_download=True,\n",
    "        etag_timeout=100\n",
    "        )\n",
    "    except Exception as e :\n",
    "        print(e)\n",
    "        # time.sleep(5)\n",
    "    else:\n",
    "        print('下载完成')\n",
    "        break\n"
   ]
  },
  {
   "cell_type": "code",
   "execution_count": null,
   "metadata": {},
   "outputs": [],
   "source": []
  }
 ],
 "metadata": {
  "kernelspec": {
   "display_name": "venv",
   "language": "python",
   "name": "python3"
  },
  "language_info": {
   "codemirror_mode": {
    "name": "ipython",
    "version": 3
   },
   "file_extension": ".py",
   "mimetype": "text/x-python",
   "name": "python",
   "nbconvert_exporter": "python",
   "pygments_lexer": "ipython3",
   "version": "3.8.10"
  }
 },
 "nbformat": 4,
 "nbformat_minor": 2
}
