{
 "cells": [
  {
   "cell_type": "code",
   "execution_count": null,
   "metadata": {},
   "outputs": [],
   "source": [
    "%pip install langchain \n",
    "%pip install kor"
   ]
  },
  {
   "cell_type": "code",
   "execution_count": null,
   "metadata": {},
   "outputs": [],
   "source": [
    "from langchain.chat_models import ChatOpenAI \n",
    "from langchain.llms import OpenAI\n",
    "\n",
    "from kor.extraction import create_extraction_chain \n",
    "from kor.nodes import Object, Text, Number"
   ]
  },
  {
   "cell_type": "code",
   "execution_count": null,
   "metadata": {},
   "outputs": [],
   "source": [
    "import json\n",
    "\n",
    "def json_dump (json_object):\n",
    "    json_formatted_str=json.dumps(json_object, indernt=2, ensure_ascii=False) \n",
    "    print(json_formatted_str)"
   ]
  },
  {
   "cell_type": "code",
   "execution_count": null,
   "metadata": {},
   "outputs": [],
   "source": [
    "llm=ChatOpenAI (\n",
    "    model_name=\"gpt-3.5-turbo\", \n",
    "    temperature=0,\n",
    "    openai_api_key=OPENAI_API_KEY\n",
    ")"
   ]
  },
  {
   "cell_type": "code",
   "execution_count": null,
   "metadata": {},
   "outputs": [],
   "source": [
    "club_schema = Object(\n",
    "\n",
    "    id=\"club\",\n",
    "\n",
    "    description=\"Information about a club\",\n",
    "\n",
    "    attributes=[\n",
    "\n",
    "        Text(id=\"name\",\n",
    "             description=\"The name of the club. \"),\n",
    "\n",
    "        Text(\n",
    "            id=\"manager\",\n",
    "            description=\"The name of the manager. \"),\n",
    "\n",
    "        Number(\n",
    "            id=\"ranking\",\n",
    "            description=\"The ranking of the club. \"),\n",
    "    ],\n",
    "\n",
    "    examples=[\n",
    "        (\"Napoli managed by Spalletti are the ist, Juventus maanaged by Allegri are the 5th. \",\n",
    "         [{\"name\": \"Napoli\", \"manager\": \"Spalletti\", \"ranking\": 1},\n",
    "          {\"name\": \"Juventus\", \"manager\": \"Allegri\", \"ranking\": 5}])],\n",
    ")"
   ]
  },
  {
   "cell_type": "code",
   "execution_count": null,
   "metadata": {},
   "outputs": [],
   "source": [
    "extraction_chain= create_extraction_chain(llm, club_schema)"
   ]
  },
  {
   "cell_type": "code",
   "execution_count": null,
   "metadata": {},
   "outputs": [],
   "source": [
    "text = \"\"\"\n",
    "Manchester City are just.1 point after Arsenal.\n",
    "Arsenal are on top of the table.\n",
    "The 2 managers Pep and Arteta are going to meet face to face in this weekend.\n",
    "\"\"\"\n",
    "\n",
    "output = extraction_chain.predict_and_parse(text=text)['data'] \n",
    "json_dump(output)"
   ]
  }
 ],
 "metadata": {
  "language_info": {
   "name": "python"
  }
 },
 "nbformat": 4,
 "nbformat_minor": 2
}
