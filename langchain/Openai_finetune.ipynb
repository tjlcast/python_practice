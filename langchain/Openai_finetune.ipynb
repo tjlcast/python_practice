{
 "cells": [
  {
   "cell_type": "markdown",
   "metadata": {},
   "source": [
    "该 notebook 将演示如何实现基于 OpenAI 模型的微调。我们将使用一组小型数据集，其中包含一些网络用语，比如关于涉及“六”的赞扬词句，以及其他中性语句。我们将使用这些数据来训练模型，以便它可以对输入文本实现情绪分类（positive, neutral）。\n",
    "\n",
    "注意，本数据集并没有采集对应情绪分类 negative 的数据，因此我们将不会对此进行训练。"
   ]
  },
  {
   "cell_type": "code",
   "execution_count": 2,
   "metadata": {},
   "outputs": [
    {
     "name": "stdout",
     "output_type": "stream",
     "text": [
      "Note: you may need to restart the kernel to use updated packages.\n"
     ]
    }
   ],
   "source": [
    "%pip install openai >/dev/null"
   ]
  },
  {
   "cell_type": "markdown",
   "metadata": {},
   "source": [
    "1. 预处理数据集\n",
    "\n",
    "数据文件内容如下：\n",
    "{\"prompt\":\"你真的六->\"，\"completion\": \"positive END\"}\n",
    "{\"prompt\":\"你真的六啊 ->\"，\"completion\": \"positive END\"} \n",
    "{\"prompt\":\"老哥，666 ->\"，\"completion\": \"positive END\"} \n",
    "{\"prompt\":\"这波操作 6 啊 ->\"，\"completion\": \"positive END\"}"
   ]
  },
  {
   "cell_type": "code",
   "execution_count": null,
   "metadata": {},
   "outputs": [],
   "source": [
    "!openai tools fine_tunes.prepare_data -f dataset.jsonl -q\n",
    "# 使用 openai 工具对预处理数据进程检查\n",
    "# -q 给出完备建议"
   ]
  },
  {
   "cell_type": "markdown",
   "metadata": {},
   "source": [
    "2. 上传数据集"
   ]
  },
  {
   "cell_type": "code",
   "execution_count": null,
   "metadata": {},
   "outputs": [],
   "source": [
    "import os\n",
    "import openai\n",
    "\n",
    "openai.api_key = os. genenv(\"OPENAI_API_KEY\")\n",
    "file = openai.File.Create(\n",
    "    file=open(\"dataset_prepared_train. Jsonl\", \"rb\"),\n",
    "    purpose='fine-tune'\n",
    ")\n",
    "\n",
    "\n",
    "file_id = file.id\n",
    "print(file_id)"
   ]
  },
  {
   "cell_type": "markdown",
   "metadata": {},
   "source": [
    "3. 微调模型"
   ]
  },
  {
   "cell_type": "code",
   "execution_count": null,
   "metadata": {},
   "outputs": [],
   "source": [
    "# 使用openai的相关工具进行finetune\n",
    "\n",
    "fine_tune = openai.FineTune.create(training_filefile_id, model='ada')\n",
    "\n",
    "fine_tune_id = fine_tune.id\n",
    "\n",
    "print(fine_tune_id)"
   ]
  },
  {
   "cell_type": "markdown",
   "metadata": {},
   "source": [
    "4. 查看微调任务状态"
   ]
  },
  {
   "cell_type": "code",
   "execution_count": null,
   "metadata": {},
   "outputs": [],
   "source": [
    "status = openai.fineTune.retrieve(id=fine_tune_id)\n",
    "\n",
    "print(f\"ID:{status.id}\")\n",
    "\n",
    "print(f\"Status: {status. Status}\")\n",
    "\n",
    "print(f\"Model: {status. Model}\")\n",
    "\n",
    "print(f\"Fine tuned model: {status. Fine_tuned_mode}\")"
   ]
  },
  {
   "cell_type": "markdown",
   "metadata": {},
   "source": [
    "5. 查询（分类提问）"
   ]
  },
  {
   "cell_type": "code",
   "execution_count": null,
   "metadata": {},
   "outputs": [],
   "source": [
    "# 使用训练后的在模型\n",
    "response = openai.Compietion.create(\n",
    "    model=\"ada: ft-personal-2023-04-24-21-32-47\",\n",
    "    prompt=\"小伙子锯子拉得六啊-> \",\n",
    "    temperature=0.7,\n",
    "    top_p=1,\n",
    "    frequency_penalty=0,\n",
    "    presence_penalty=0,\n",
    "    stop=[\"END\"]\n",
    ")\n",
    "\n",
    "print(response)"
   ]
  }
 ],
 "metadata": {
  "kernelspec": {
   "display_name": "venv",
   "language": "python",
   "name": "python3"
  },
  "language_info": {
   "codemirror_mode": {
    "name": "ipython",
    "version": 3
   },
   "file_extension": ".py",
   "mimetype": "text/x-python",
   "name": "python",
   "nbconvert_exporter": "python",
   "pygments_lexer": "ipython3",
   "version": "3.8.10"
  }
 },
 "nbformat": 4,
 "nbformat_minor": 2
}
