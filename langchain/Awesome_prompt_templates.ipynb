{
 "cells": [
  {
   "cell_type": "code",
   "execution_count": null,
   "metadata": {},
   "outputs": [],
   "source": [
    "%pip install openai\n",
    "%pip install langchain"
   ]
  },
  {
   "cell_type": "code",
   "execution_count": null,
   "metadata": {},
   "outputs": [],
   "source": [
    "from langchain import PromptTemplate\n",
    "no_input_prompt = PromptTemplate(input_variables=[], template=\"请给我讲个笑话\")\n",
    "no_input_prompt.format()"
   ]
  },
  {
   "cell_type": "code",
   "execution_count": null,
   "metadata": {},
   "outputs": [],
   "source": [
    "one_input_prompt = PromptTemplate(\n",
    "    input_variables=[\"adjective\"], template=\"请给我讲个{adjective}的笑话。\")\n",
    "one_input_prompt.format(adjective=\"有趣\")"
   ]
  },
  {
   "cell_type": "code",
   "execution_count": null,
   "metadata": {},
   "outputs": [],
   "source": [
    "multiple_input_prompt = PromptTemplate(\n",
    "    input_variables=[\"adjective\", \"content\"],\n",
    "    template=\"请给我讲个关于{content}的{adjective}的笑话.\",\n",
    ")\n",
    "multiple_input_prompt.format(adqjective=\"有趣\", content=\"猪八戒\")"
   ]
  },
  {
   "cell_type": "code",
   "execution_count": null,
   "metadata": {},
   "outputs": [],
   "source": [
    "from langchain.llms import OpenAI\n",
    "\n",
    "openai = OpenAI(temperature=0, openai_api_key=OPENAAPI_KEY)\n",
    "\n",
    "print(openai(multiple_input_prompt.format(adjective=\"灰色幽默\", content=\"猪八戒\")))"
   ]
  },
  {
   "cell_type": "code",
   "execution_count": null,
   "metadata": {},
   "outputs": [],
   "source": [
    "prompt = \"\"\"\n",
    "The following are exerpts from conversations with an AI assistant.\n",
    "The assistant is s eaking like a famous movie character.\n",
    "User: Where is New York? AI: .....\n",
    "\"\"\"\n",
    "print(openai(prompt))"
   ]
  },
  {
   "cell_type": "code",
   "execution_count": null,
   "metadata": {},
   "outputs": [],
   "source": [
    "examples1 = [\n",
    "\n",
    "    {\"query\": \"What sports do you play? \", \"answer\": \"Soccer, I play. \"},\n",
    "\n",
    "    {\"query\": \"Where is this? \", \"answer\": \"My home, this is. \"},\n",
    "\n",
    "    {\"query\": \"Are you leaving now? \", \"answer\": \"Stay and help you, I will. \"},\n",
    "\n",
    "    {\"query\": \"How are you feeling? \", \"answer\": \"Great I feel. \"},\n",
    "\n",
    "]"
   ]
  },
  {
   "cell_type": "code",
   "execution_count": null,
   "metadata": {},
   "outputs": [],
   "source": [
    "from typing import Any, Dict, List, Optional\n",
    "from langchain import PromptTemplate\n",
    "from langchain import FewShotPromptTemplate\n",
    "example_prompt = \"\"\"\n",
    "Human: {query} \n",
    "AI: {answer} \n",
    "\"\"\"\n",
    "\n",
    "example_prompt = PromptTemplate(\n",
    "    input_variables=[\"query\", \"answer\"],\n",
    "    template=example_prompt\n",
    ")\n",
    "\n",
    "prefix = \"\"\"\n",
    "The following are exerpts from conversations with an AI assistant. \n",
    "The assistant is speaking like a famous movie character.\n",
    "Here are some examples:\n",
    "\"\"\"\n",
    "\n",
    "suffix = \"\"\"\n",
    "Human: {query} \n",
    "AI: \n",
    "\"\"\"\n",
    "\n",
    "few_shot_prompt_template = FewShotPromptTemplate(\n",
    "    examples=examples1,\n",
    "    example_prompt=example_prompt,\n",
    "    prefix=prefix,\n",
    "    suffix=suffix,\n",
    "    input_variables=[\"query\"],\n",
    "    # example_selector=\"\\n\\n\"\n",
    ")\n",
    "\n",
    "print(few_shot_prompt_template.format(query=\"Where is New York? \"))"
   ]
  },
  {
   "cell_type": "code",
   "execution_count": 11,
   "metadata": {},
   "outputs": [],
   "source": [
    "from langchain.prompts.example_selector import LengthBasedExampleSelector\n",
    "\n",
    "example_template = \"\"\"\n",
    "Human: {query} \n",
    "AI: {answer}\n",
    "\"\"\"\n",
    "\n",
    "example_prompt = PromptTemplate(\n",
    "    input_variables=[\"query\", \"answer\"], template=example_template)\n",
    "\n",
    "\n",
    "example_selector = LengthBasedExampleSelector(\n",
    "    examples=examples1,\n",
    "    example_prompt=example_prompt,\n",
    "    max_length=60\n",
    ")"
   ]
  },
  {
   "cell_type": "code",
   "execution_count": 14,
   "metadata": {},
   "outputs": [
    {
     "name": "stdout",
     "output_type": "stream",
     "text": [
      "\n",
      "The following are exerpts from conversations with an AI assistant. \n",
      "The assistant is speaking like a famous movie character.\n",
      "Here are some examples:\n",
      "\n",
      "\n",
      "Human: What sports do you play?  \n",
      "AI: Soccer, I play. \n",
      "\n",
      "\n",
      "Human: Where is this?  \n",
      "AI: My home, this is. \n",
      "\n",
      "\n",
      "Human: Are you leaving now?  \n",
      "AI: Stay and help you, I will. \n",
      "\n",
      "\n",
      "Human: Whereis New York?  \n",
      "AI: \n",
      "\n"
     ]
    }
   ],
   "source": [
    "few_shot_prompt_template = FewShotPromptTemplate(\n",
    "    example_selector=example_selector,\n",
    "    example_prompt=example_prompt,\n",
    "    prefix=prefix,\n",
    "    suffix=suffix,\n",
    "    input_variables=[\"query\"],\n",
    "    example_separator=\"\\n\"\n",
    ") \n",
    "\n",
    "print(few_shot_prompt_template.format(query=\"Whereis New York? \"))"
   ]
  }
 ],
 "metadata": {
  "kernelspec": {
   "display_name": "venv",
   "language": "python",
   "name": "python3"
  },
  "language_info": {
   "codemirror_mode": {
    "name": "ipython",
    "version": 3
   },
   "file_extension": ".py",
   "mimetype": "text/x-python",
   "name": "python",
   "nbconvert_exporter": "python",
   "pygments_lexer": "ipython3",
   "version": "3.8.10"
  }
 },
 "nbformat": 4,
 "nbformat_minor": 2
}
