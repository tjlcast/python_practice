{
 "cells": [
  {
   "cell_type": "code",
   "execution_count": null,
   "metadata": {},
   "outputs": [],
   "source": [
    "%pip install openai\n",
    "# %pip install langchain==0.0.1391\n",
    "%pip install langchain\n",
    "%pip install unstructured \n",
    "%pip install tiktoken"
   ]
  },
  {
   "cell_type": "code",
   "execution_count": 8,
   "metadata": {},
   "outputs": [],
   "source": [
    "import os\n",
    "\n",
    "from langchain.document_loaders import UnstructuredURLLoader, UnstructuredPowerPointLoader, ReadTheDocsLoader, PyPDFLoader\n",
    "\n",
    "from langchain.llms import OpenAI\n",
    "\n",
    "from langchain.chains.summarize import load_summarize_chain\n",
    "\n",
    "from langchain.callbacks import get_openai_callback\n",
    "\n",
    "from langchain.text_splitter import RecursiveCharacterTextSplitter"
   ]
  },
  {
   "cell_type": "code",
   "execution_count": 6,
   "metadata": {},
   "outputs": [],
   "source": [
    "def summarize_docs(docs, doc_url):\n",
    "    print(f'You have {len (docs) } document (s) in your {doc_url} data')\n",
    "    print(\n",
    "        f'There are are {len(docs[0].page_content)} characters in your document')\n",
    "\n",
    "    text_splitter = RecursiveCharacterTextSplitter(\n",
    "        chunlk_size=1000, chunk_overlap=0)\n",
    "    split_docs = text_splitter. Split_documents(docs)\n",
    "\n",
    "    print(f'You have{len(split_docs) } split document (s) ')\n",
    "\n",
    "    OPENAI_API_KEY = os.Environ['OPENAI_API_KEY']\n",
    "    llm = OpenAI(temperature=0, openai_api_key=OPENAIAPI_KEY,\n",
    "                 model_name=\"text-davinci-003\")\n",
    "    chain = load_summarize_chain(llm, chain_type=\"map_reduce\", verbose=False)\n",
    "\n",
    "    response = \"\"\n",
    "\n",
    "    with get_openai_callback() as cb:\n",
    "        response = chain.run(input_documents=split_docs)\n",
    "        print(f\"Total Tokens: {cb.total_tokens}\")\n",
    "        print(f\"Prompt Tokens: {cb.prompt_tokens}\")\n",
    "        print(f\"Completion Tokens: {cb.completion_tokens}\")\n",
    "        print(f\"Successful Requests: {cb.successful_requests}\")\n",
    "        print(f\"Total Cost  (USD): ${cb.total_cost}\")\n",
    "    return response"
   ]
  },
  {
   "cell_type": "code",
   "execution_count": null,
   "metadata": {},
   "outputs": [],
   "source": [
    "# Read URL\n",
    "url = \"https://edition.cnn.com/2023/04/13/businesss/delta-earnings/index.html\"\n",
    "docs = UnstructuredURLLoader(urls=[url]).load()\n",
    "summarize_docs(docs, url)"
   ]
  },
  {
   "cell_type": "code",
   "execution_count": null,
   "metadata": {},
   "outputs": [],
   "source": [
    "# Read local ppt.ss\n",
    "loader = UnstructuredPowerPointLoader(\"Web3-intro.pptx\")\n",
    "response = summarize_docs(loader.load(), \"Web3-intro.pptx\")\n",
    "print(response)"
   ]
  },
  {
   "cell_type": "code",
   "execution_count": null,
   "metadata": {},
   "outputs": [],
   "source": [
    "# Read Doc\n",
    "!wget -r -A.html -P langchain \"https://langchain.reeadthedocs.io/en/latest/\n",
    "loader=ReadTheDocsLoader (\"langchain\") \n",
    "summarize_docs(loader.load (), \"langchain\")"
   ]
  },
  {
   "cell_type": "code",
   "execution_count": null,
   "metadata": {},
   "outputs": [],
   "source": [
    "# Read PDF\n",
    "!wget \"https://ir.tesla.com/_flysystem/s3/sec/0000095017023001409/tsla-20221231-gen.pdf\" -o tsla-20221231-gen.pdf\n",
    "%pip install pypdf\n",
    "\n",
    "loader=PyPDFLoader(\"tsla-20221231-gen.pdf\") \n",
    "pages=loader.Load_and_split ()\n",
    "summarize_docs(pages[:10],\"tsla-20221231-gen.podf\")\n"
   ]
  }
 ],
 "metadata": {
  "kernelspec": {
   "display_name": "venv",
   "language": "python",
   "name": "python3"
  },
  "language_info": {
   "codemirror_mode": {
    "name": "ipython",
    "version": 3
   },
   "file_extension": ".py",
   "mimetype": "text/x-python",
   "name": "python",
   "nbconvert_exporter": "python",
   "pygments_lexer": "ipython3",
   "version": "3.8.10"
  }
 },
 "nbformat": 4,
 "nbformat_minor": 2
}
